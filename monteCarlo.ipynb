{
 "cells": [
  {
   "cell_type": "code",
   "execution_count": 3,
   "metadata": {},
   "outputs": [
    {
     "name": "stdout",
     "output_type": "stream",
     "text": [
      "[9, 8, 7, 6, 7, 7, 8, 6, 7, 7, 9, 7, 6, 8, 7, 6, 9, 10, 9, 9]\n"
     ]
    }
   ],
   "source": [
    "import random\n",
    "daily_demand ={ 4:6,\n",
    "                5:5,\n",
    "                6:9,\n",
    "                7:12,\n",
    "                8:8,\n",
    "                9:7,\n",
    "                10:3 }\n",
    "\n",
    "\n",
    "def simulate_daily_demand():\n",
    "    rand_num = random.random()\n",
    "    #calculate cumulative probability\n",
    "    cumulative_prob = 0\n",
    "    for demand, frequency in daily_demand.items():\n",
    "        cumulative_prob += frequency / sum(daily_demand.values())\n",
    "        if rand_num <= cumulative_prob:\n",
    "            return demand\n",
    "\n",
    "#simulate daily demand for 20 weeks\n",
    "NUM_WEEKS = 20\n",
    "random.seed(0)\n",
    "daily_demand_sim = [simulate_daily_demand() for _ in range(NUM_WEEKS)]\n",
    "print(daily_demand_sim)\n"
   ]
  },
  {
   "cell_type": "code",
   "execution_count": 4,
   "metadata": {},
   "outputs": [
    {
     "name": "stdout",
     "output_type": "stream",
     "text": [
      "       Daily Sales\n",
      "count    20.000000\n",
      "mean      7.600000\n",
      "std       1.231174\n",
      "min       6.000000\n",
      "25%       7.000000\n",
      "50%       7.000000\n",
      "75%       9.000000\n",
      "max      10.000000\n"
     ]
    }
   ],
   "source": [
    "import pandas as pd\n",
    "\n",
    "demand_df  = pd.DataFrame({'Daily Sales': daily_demand_sim})\n",
    "print(demand_df.describe())"
   ]
  }
 ],
 "metadata": {
  "kernelspec": {
   "display_name": "Python 3",
   "language": "python",
   "name": "python3"
  },
  "language_info": {
   "codemirror_mode": {
    "name": "ipython",
    "version": 3
   },
   "file_extension": ".py",
   "mimetype": "text/x-python",
   "name": "python",
   "nbconvert_exporter": "python",
   "pygments_lexer": "ipython3",
   "version": "3.11.4"
  }
 },
 "nbformat": 4,
 "nbformat_minor": 2
}
