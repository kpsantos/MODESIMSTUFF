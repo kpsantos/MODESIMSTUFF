{
 "cells": [
  {
   "cell_type": "code",
   "execution_count": 1,
   "metadata": {},
   "outputs": [],
   "source": [
    "from modsim import *\n"
   ]
  },
  {
   "cell_type": "code",
   "execution_count": 2,
   "metadata": {},
   "outputs": [],
   "source": [
    "bikeshare = State(makati = 9, manila = 3)"
   ]
  },
  {
   "cell_type": "code",
   "execution_count": 3,
   "metadata": {},
   "outputs": [
    {
     "data": {
      "text/plain": [
       "makati    9\n",
       "manila    3\n",
       "Name: state, dtype: int64"
      ]
     },
     "execution_count": 3,
     "metadata": {},
     "output_type": "execute_result"
    }
   ],
   "source": [
    "bikeshare"
   ]
  },
  {
   "cell_type": "code",
   "execution_count": 4,
   "metadata": {},
   "outputs": [
    {
     "name": "stdout",
     "output_type": "stream",
     "text": [
      "9\n"
     ]
    }
   ],
   "source": [
    "print(bikeshare.makati)"
   ]
  },
  {
   "cell_type": "code",
   "execution_count": 5,
   "metadata": {},
   "outputs": [],
   "source": [
    "def bike_to_makati():\n",
    "    print(\"Moving to Makati\")\n",
    "    bikeshare.makati += 1\n",
    "    bikeshare.manila -= 1"
   ]
  },
  {
   "cell_type": "code",
   "execution_count": 6,
   "metadata": {},
   "outputs": [],
   "source": [
    "def bike_to_manila():\n",
    "    print(\"Moving to Manila\")\n",
    "    bikeshare.makati -= 1\n",
    "    bikeshare.manila += 1"
   ]
  },
  {
   "cell_type": "code",
   "execution_count": 7,
   "metadata": {},
   "outputs": [
    {
     "name": "stdout",
     "output_type": "stream",
     "text": [
      "Moving to Makati\n"
     ]
    },
    {
     "data": {
      "text/plain": [
       "makati    10\n",
       "manila     2\n",
       "Name: state, dtype: int64"
      ]
     },
     "execution_count": 7,
     "metadata": {},
     "output_type": "execute_result"
    }
   ],
   "source": [
    "bike_to_makati()\n",
    "bikeshare"
   ]
  },
  {
   "cell_type": "code",
   "execution_count": 8,
   "metadata": {},
   "outputs": [
    {
     "name": "stdout",
     "output_type": "stream",
     "text": [
      "heads\n"
     ]
    }
   ],
   "source": [
    "if flip(0.7):\n",
    "    print(\"heads\")\n",
    "else:\n",
    "    print(\"tails\")"
   ]
  },
  {
   "cell_type": "code",
   "execution_count": 9,
   "metadata": {},
   "outputs": [],
   "source": [
    "bikeshare = State(makati = 9, manila = 3)\n",
    "def step(p1, p2):\n",
    "    if flip(p1):\n",
    "        bike_to_makati()\n",
    "    elif flip(p2):\n",
    "        bike_to_manila()\n",
    "    else:\n",
    "        print(\"no movement\")\n",
    "        "
   ]
  },
  {
   "cell_type": "code",
   "execution_count": 10,
   "metadata": {},
   "outputs": [
    {
     "name": "stdout",
     "output_type": "stream",
     "text": [
      "no movement\n"
     ]
    },
    {
     "data": {
      "text/plain": [
       "makati    9\n",
       "manila    3\n",
       "Name: state, dtype: int64"
      ]
     },
     "execution_count": 10,
     "metadata": {},
     "output_type": "execute_result"
    }
   ],
   "source": [
    "step(0.30, 0.20)\n",
    "bikeshare"
   ]
  },
  {
   "cell_type": "code",
   "execution_count": 11,
   "metadata": {},
   "outputs": [],
   "source": [
    "bikeshare = State(makati = 9, manila = 3)\n",
    "def step(p1, p2):\n",
    "    if flip(p1):\n",
    "        bike_to_makati()\n",
    "    elif flip(p2):\n",
    "        bike_to_manila()\n",
    "    else:\n",
    "        print(\"no movement\")\n",
    "        \n",
    "\n",
    "    "
   ]
  },
  {
   "cell_type": "code",
   "execution_count": 12,
   "metadata": {},
   "outputs": [
    {
     "name": "stdout",
     "output_type": "stream",
     "text": [
      "no movement\n",
      "Moving to Makati\n",
      "Moving to Makati\n",
      "Moving to Manila\n",
      "Moving to Makati\n",
      "Moving to Makati\n",
      "Moving to Makati\n",
      "Moving to Manila\n",
      "Moving to Makati\n",
      "Moving to Makati\n"
     ]
    }
   ],
   "source": [
    "results = TimeSeries()\n",
    "for i in range(10):\n",
    "    step(0.75, 0.6)\n",
    "    results[i] = bikeshare.makati"
   ]
  },
  {
   "cell_type": "code",
   "execution_count": 13,
   "metadata": {},
   "outputs": [
    {
     "data": {
      "text/plain": [
       "Time\n",
       "0     9\n",
       "1    10\n",
       "2    11\n",
       "3    10\n",
       "4    11\n",
       "5    12\n",
       "6    13\n",
       "7    12\n",
       "8    13\n",
       "9    14\n",
       "Name: Quantity, dtype: int64"
      ]
     },
     "execution_count": 13,
     "metadata": {},
     "output_type": "execute_result"
    }
   ],
   "source": [
    "results"
   ]
  },
  {
   "cell_type": "code",
   "execution_count": 14,
   "metadata": {},
   "outputs": [
    {
     "data": {
      "text/plain": [
       "[<matplotlib.lines.Line2D at 0x227c45941d0>]"
      ]
     },
     "execution_count": 14,
     "metadata": {},
     "output_type": "execute_result"
    },
    {
     "data": {
      "image/png": "[encoded data removed]",
      "text/plain": [
       "<Figure size 450x300 with 1 Axes>"
      ]
     },
     "metadata": {},
     "output_type": "display_data"
    }
   ],
   "source": [
    "plt.plot(results)"
   ]
  },
  {
   "cell_type": "code",
   "execution_count": 15,
   "metadata": {},
   "outputs": [
    {
     "data": {
      "image/png": "[encoded data removed]",
      "text/plain": [
       "<Figure size 450x300 with 1 Axes>"
      ]
     },
     "metadata": {},
     "output_type": "display_data"
    }
   ],
   "source": [
    "from modsim import *\n",
    "import random\n",
    "def bike_to_makati(state):\n",
    "#     print(\"Moving to Makati\")\n",
    "    if state.manila == 0:\n",
    "        state.manila_empty += 1\n",
    "        return\n",
    "    bikeshare.makati += 1\n",
    "    bikeshare.manila -= 1\n",
    "\n",
    "\n",
    "def bike_to_manila(state):\n",
    "#     print(\"Moving to Manila\")\n",
    "    if state.makati == 0:\n",
    "        state.makati_empty += 1\n",
    "        return\n",
    "    bikeshare.makati -= 1\n",
    "    bikeshare.manila += 1\n",
    "\n",
    "\n",
    "def step(state, p1, p2):\n",
    "    if flip(p1):\n",
    "        bike_to_makati(state)\n",
    "    elif flip(p2):\n",
    "        bike_to_manila(state)\n",
    "\n",
    "\n",
    "\n",
    "def run_simulation(state, p1, p2, num_steps):\n",
    "    makati_results = TimeSeries()\n",
    "    manila_results = TimeSeries()\n",
    "    for i in range(num_steps):\n",
    "        step(state, p1, p2)\n",
    "        makati_results[i] = bikeshare.makati\n",
    "        manila_results[i] = bikeshare.manila\n",
    "    plt.plot(makati_results, label = \"Makati\")\n",
    "    plt.plot(manila_results, label = \"Manila\")\n",
    "    plt.legend()\n",
    "\n",
    "def runsimulation2(state, p1,p2, num_steps):\n",
    "    makati_empty = TimeSeries()\n",
    "    manila_empty = TimeSeries()\n",
    "    for i in range(num_steps):\n",
    "        step(state, p1, p2)\n",
    "        makati_empty[i] = bikeshare.makati_empty\n",
    "        manila_empty[i] = bikeshare.manila_empty\n",
    "    plt.plot(makati_empty, label = \"Makati\")\n",
    "    plt.plot(manila_empty, label = \"Manila\")\n",
    "    plt.legend()\n",
    "\n",
    "bikeshare = State(makati = 3, manila = 3, makati_empty = 0, manila_empty = 0)\n",
    "runsimulation2(bikeshare, 0.50, 0.50, 100)"
   ]
  }
 ],
 "metadata": {
  "kernelspec": {
   "display_name": "Python 3",
   "language": "python",
   "name": "python3"
  },
  "language_info": {
   "codemirror_mode": {
    "name": "ipython",
    "version": 3
   },
   "file_extension": ".py",
   "mimetype": "text/x-python",
   "name": "python",
   "nbconvert_exporter": "python",
   "pygments_lexer": "ipython3",
   "version": "3.11.4"
  }
 },
 "nbformat": 4,
 "nbformat_minor": 2
}
