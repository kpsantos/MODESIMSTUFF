{
 "cells": [
  {
   "cell_type": "code",
   "execution_count": 53,
   "metadata": {},
   "outputs": [],
   "source": [
    "import simpy as sy\n",
    "import statistics\n",
    "import random\n",
    "\n"
   ]
  },
  {
   "cell_type": "code",
   "execution_count": 54,
   "metadata": {},
   "outputs": [],
   "source": [
    "wait_times = []"
   ]
  },
  {
   "cell_type": "code",
   "execution_count": 55,
   "metadata": {},
   "outputs": [],
   "source": [
    "class MovieHouse(object):\n",
    "    def __init__(self, env, num_cashiers, num_ushers, num_servers):\n",
    "        self.env = env\n",
    "        self.cashier = sy.Resource(env, num_cashiers)\n",
    "        self.usher = sy.Resource(env, num_ushers)\n",
    "        self.server = sy.Resource(env, num_servers)\n",
    "    #assume moviegoer completes purchase in 2 mins\n",
    "    def purchase_tickets(self, moviegoer):\n",
    "        yield self.env.timeout(random.randint(1,3))\n",
    "    #assume usher checks tickets for 3 secs\n",
    "    def check_tickets(self, moviegoer):\n",
    "        yield self.env.timeout(3/60)\n",
    "    # 5 min food sir!\n",
    "    def sell_food(self,moviegoer):\n",
    "        yield self.env.timeout(random.randint(1,5))\n",
    "\n"
   ]
  },
  {
   "cell_type": "code",
   "execution_count": 56,
   "metadata": {},
   "outputs": [],
   "source": [
    "def go_to_movies(env, moviegoer, moviehouse):\n",
    "    #moviegoer arrives at the moviehouse\n",
    "    arrival_time = env.now\n",
    "\n",
    "    with moviehouse.cashier.request() as request:\n",
    "        yield request\n",
    "        yield env.process(moviehouse.purchase_tickets(moviegoer))\n",
    "    with moviehouse.usher.request() as request:\n",
    "        yield request\n",
    "        yield env.process(moviehouse.check_tickets(moviegoer))\n",
    "    if random.choice([True, False]):\n",
    "        with moviehouse.server.request() as request:\n",
    "            yield request\n",
    "            yield env.process(moviehouse.sell_food(moviegoer))\n",
    "    wait_times.append(env.now - arrival_time)"
   ]
  },
  {
   "cell_type": "code",
   "execution_count": 57,
   "metadata": {},
   "outputs": [],
   "source": [
    "def run_moviehouse(env, num_cashiers, num_ushers, num_servers):\n",
    "    movieHouse = MovieHouse(env, num_cashiers, num_ushers, num_servers)\n",
    "\n",
    "    #assume when moviehouse opens, there are already 3 customers waiting\n",
    "    for moviegoer in range(3):\n",
    "        env.process(go_to_movies(env, moviegoer, movieHouse))\n",
    "    while True:\n",
    "        #12 seconds\n",
    "        yield env.timeout(12/60)\n",
    "        moviegoer += 1\n",
    "        env.process(go_to_movies(env, moviegoer, movieHouse))"
   ]
  },
  {
   "cell_type": "code",
   "execution_count": 58,
   "metadata": {},
   "outputs": [],
   "source": [
    "def get_average_wait_times(wait_times):\n",
    "    average_wait = statistics.mean(wait_times)\n",
    "    minutes, frac_min = divmod(average_wait, 1)\n",
    "    seconds = frac_min * 60\n",
    "    return round(minutes), round(seconds)\n"
   ]
  },
  {
   "cell_type": "code",
   "execution_count": 59,
   "metadata": {},
   "outputs": [],
   "source": [
    "def get_user_input():\n",
    "    num_cashiers = input(\"Number of cashiers: \")\n",
    "    num_ushers = input(\"Number of ushers: \")\n",
    "    num_servers = input(\"Number of servers: \")\n",
    "    params = [num_cashiers, num_ushers, num_servers]\n",
    "    if all(str(i).isdigit() for i in params): #check input if valid\n",
    "        params =[int(x) for x in params]\n",
    "    else:\n",
    "        print(\n",
    "            \"Could no parse input. Simulation will use default values:\"\n",
    "            \"\\n1 cashier, 1 server, 1 usher.\"\n",
    "        )\n",
    "        params = [1,1,1]\n",
    "    return params"
   ]
  },
  {
   "cell_type": "code",
   "execution_count": 60,
   "metadata": {},
   "outputs": [],
   "source": [
    "def main():\n",
    "    random.seed(42)\n",
    "    num_cashiers, num_ushers, num_servers = get_user_input()\n",
    "\n",
    "    env = sy.Environment()\n",
    "    env.process(run_moviehouse(env, num_cashiers, num_ushers, num_servers))\n",
    "    env.run(until=90)\n",
    "\n",
    "    minutes, seconds = get_average_wait_times(wait_times)\n",
    "    print(\"Running simulation.....\",\n",
    "          f\"\\nThe average wait time is {minutes} minutes and {seconds} seconds\")"
   ]
  },
  {
   "cell_type": "code",
   "execution_count": 61,
   "metadata": {},
   "outputs": [],
   "source": [
    "main()"
   ]
  }
 ],
 "metadata": {
  "kernelspec": {
   "display_name": "Python 3",
   "language": "python",
   "name": "python3"
  },
  "language_info": {
   "codemirror_mode": {
    "name": "ipython",
    "version": 3
   },
   "file_extension": ".py",
   "mimetype": "text/x-python",
   "name": "python",
   "nbconvert_exporter": "python",
   "pygments_lexer": "ipython3",
   "version": "3.10.13"
  }
 },
 "nbformat": 4,
 "nbformat_minor": 2
}
