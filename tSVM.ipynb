{
 "cells": [
  {
   "cell_type": "code",
   "execution_count": null,
   "metadata": {},
   "outputs": [],
   "source": [
    "from sklearn.model_selection import train_test_split\n",
    "from sklearn.feature_extraction.text import TfidfVectorizer\n",
    "from sklearn.naive_bayes import MultinomialNB\n",
    " \n",
    "X_train, X_test, y_train, y_test = train_test_split(data, **kwargs)\n",
    "vct = TfidfVectorizer(**kwargs)\n",
    "model = MultinomialNB(**kwargs)\n",
    " \n",
    "Xtrain_transformed = vct.fit_transform(X_train)\n",
    "Xtest_transformed = vct.transform(X_test)\n",
    " \n",
    "model.fit(Xtrain_transformed, y_train)\n",
    " \n",
    "y_pred = model.predict(Xtest_transformed)\n"
   ]
  },
  {
   "cell_type": "code",
   "execution_count": null,
   "metadata": {},
   "outputs": [],
   "source": [
    "#evaluate y_pred y_test here\n",
    "#take note TfidVectorizer can be one of the methods for implementing the bag-of-words concept\n"
   ]
  }
 ],
 "metadata": {
  "language_info": {
   "name": "python"
  }
 },
 "nbformat": 4,
 "nbformat_minor": 2
}
