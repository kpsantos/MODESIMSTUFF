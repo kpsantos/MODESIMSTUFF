{
 "cells": [
  {
   "cell_type": "code",
   "execution_count": 28,
   "metadata": {},
   "outputs": [],
   "source": [
    "import pandas as pd\n",
    "import numpy as np\n",
    "import matplotlib.pyplot as plt\n",
    "import seaborn as sns\n",
    "\n",
    "%matplotlib inline\n",
    "sns.set_style(\"whitegrid\")\n",
    "plt.style.use(\"fivethirtyeight\")"
   ]
  },
  {
   "cell_type": "code",
   "execution_count": 29,
   "metadata": {},
   "outputs": [],
   "source": [
    "# example text for model training (SMS messages)\n",
    "simple_train = ['call you tonight', 'Call me a cab', 'Please call me... PLEASE!']"
   ]
  },
  {
   "cell_type": "code",
   "execution_count": 30,
   "metadata": {},
   "outputs": [
    {
     "data": {
      "text/plain": [
       "array(['cab', 'call', 'me', 'please', 'tonight', 'you'], dtype=object)"
      ]
     },
     "execution_count": 30,
     "metadata": {},
     "output_type": "execute_result"
    }
   ],
   "source": [
    "# import and instantiate CountVectorizer (with the default parameters)\n",
    "from sklearn.feature_extraction.text import CountVectorizer\n",
    "\n",
    "vect = CountVectorizer()\n",
    "\n",
    "# learn the 'vocabulary' of the training data (occurs in-place)\n",
    "vect.fit(simple_train)\n",
    "\n",
    "# examine the fitted vocabulary\n",
    "vect.get_feature_names_out()"
   ]
  },
  {
   "cell_type": "code",
   "execution_count": 31,
   "metadata": {},
   "outputs": [
    {
     "data": {
      "text/plain": [
       "<3x6 sparse matrix of type '<class 'numpy.int64'>'\n",
       "\twith 9 stored elements in Compressed Sparse Row format>"
      ]
     },
     "execution_count": 31,
     "metadata": {},
     "output_type": "execute_result"
    }
   ],
   "source": [
    "# transform training data into a 'document-term matrix'\n",
    "simple_train_dtm = vect.transform(simple_train)\n",
    "simple_train_dtm"
   ]
  },
  {
   "cell_type": "code",
   "execution_count": 32,
   "metadata": {},
   "outputs": [
    {
     "data": {
      "text/plain": [
       "array([[0, 1, 0, 0, 1, 1],\n",
       "       [1, 1, 1, 0, 0, 0],\n",
       "       [0, 1, 1, 2, 0, 0]], dtype=int64)"
      ]
     },
     "execution_count": 32,
     "metadata": {},
     "output_type": "execute_result"
    }
   ],
   "source": [
    "# convert sparse matrix to a dense matrix\n",
    "simple_train_dtm.toarray()"
   ]
  },
  {
   "cell_type": "code",
   "execution_count": 33,
   "metadata": {},
   "outputs": [
    {
     "data": {
      "text/html": [
       "<div>\n",
       "<style scoped>\n",
       "    .dataframe tbody tr th:only-of-type {\n",
       "        vertical-align: middle;\n",
       "    }\n",
       "\n",
       "    .dataframe tbody tr th {\n",
       "        vertical-align: top;\n",
       "    }\n",
       "\n",
       "    .dataframe thead th {\n",
       "        text-align: right;\n",
       "    }\n",
       "</style>\n",
       "<table border=\"1\" class=\"dataframe\">\n",
       "  <thead>\n",
       "    <tr style=\"text-align: right;\">\n",
       "      <th></th>\n",
       "      <th>cab</th>\n",
       "      <th>call</th>\n",
       "      <th>me</th>\n",
       "      <th>please</th>\n",
       "      <th>tonight</th>\n",
       "      <th>you</th>\n",
       "    </tr>\n",
       "  </thead>\n",
       "  <tbody>\n",
       "    <tr>\n",
       "      <th>0</th>\n",
       "      <td>0</td>\n",
       "      <td>1</td>\n",
       "      <td>0</td>\n",
       "      <td>0</td>\n",
       "      <td>1</td>\n",
       "      <td>1</td>\n",
       "    </tr>\n",
       "    <tr>\n",
       "      <th>1</th>\n",
       "      <td>1</td>\n",
       "      <td>1</td>\n",
       "      <td>1</td>\n",
       "      <td>0</td>\n",
       "      <td>0</td>\n",
       "      <td>0</td>\n",
       "    </tr>\n",
       "    <tr>\n",
       "      <th>2</th>\n",
       "      <td>0</td>\n",
       "      <td>1</td>\n",
       "      <td>1</td>\n",
       "      <td>2</td>\n",
       "      <td>0</td>\n",
       "      <td>0</td>\n",
       "    </tr>\n",
       "  </tbody>\n",
       "</table>\n",
       "</div>"
      ],
      "text/plain": [
       "   cab  call  me  please  tonight  you\n",
       "0    0     1   0       0        1    1\n",
       "1    1     1   1       0        0    0\n",
       "2    0     1   1       2        0    0"
      ]
     },
     "execution_count": 33,
     "metadata": {},
     "output_type": "execute_result"
    }
   ],
   "source": [
    "# examine the vocabulary and document-term matrix together\n",
    "pd.DataFrame(simple_train_dtm.toarray(), columns=vect.get_feature_names_out())"
   ]
  },
  {
   "cell_type": "code",
   "execution_count": 34,
   "metadata": {},
   "outputs": [
    {
     "name": "stdout",
     "output_type": "stream",
     "text": [
      "<class 'scipy.sparse._csr.csr_matrix'>\n",
      "  (0, 1)\t1\n",
      "  (0, 4)\t1\n",
      "  (0, 5)\t1\n",
      "  (1, 0)\t1\n",
      "  (1, 1)\t1\n",
      "  (1, 2)\t1\n",
      "  (2, 1)\t1\n",
      "  (2, 2)\t1\n",
      "  (2, 3)\t2\n"
     ]
    }
   ],
   "source": [
    "# check the type of the document-term matrix\n",
    "print(type(simple_train_dtm))\n",
    "\n",
    "# examine the sparse matrix contents\n",
    "print(simple_train_dtm)"
   ]
  },
  {
   "cell_type": "code",
   "execution_count": 35,
   "metadata": {},
   "outputs": [],
   "source": [
    "# example text for model testing\n",
    "simple_test = [\"please don't call me\"]"
   ]
  },
  {
   "cell_type": "code",
   "execution_count": 36,
   "metadata": {},
   "outputs": [
    {
     "data": {
      "text/plain": [
       "array([[0, 1, 1, 1, 0, 0]], dtype=int64)"
      ]
     },
     "execution_count": 36,
     "metadata": {},
     "output_type": "execute_result"
    }
   ],
   "source": [
    "# transform testing data into a document-term matrix (using existing vocabulary)\n",
    "simple_test_dtm = vect.transform(simple_test)\n",
    "simple_test_dtm.toarray()"
   ]
  },
  {
   "cell_type": "code",
   "execution_count": 37,
   "metadata": {},
   "outputs": [
    {
     "data": {
      "text/html": [
       "<div>\n",
       "<style scoped>\n",
       "    .dataframe tbody tr th:only-of-type {\n",
       "        vertical-align: middle;\n",
       "    }\n",
       "\n",
       "    .dataframe tbody tr th {\n",
       "        vertical-align: top;\n",
       "    }\n",
       "\n",
       "    .dataframe thead th {\n",
       "        text-align: right;\n",
       "    }\n",
       "</style>\n",
       "<table border=\"1\" class=\"dataframe\">\n",
       "  <thead>\n",
       "    <tr style=\"text-align: right;\">\n",
       "      <th></th>\n",
       "      <th>cab</th>\n",
       "      <th>call</th>\n",
       "      <th>me</th>\n",
       "      <th>please</th>\n",
       "      <th>tonight</th>\n",
       "      <th>you</th>\n",
       "    </tr>\n",
       "  </thead>\n",
       "  <tbody>\n",
       "    <tr>\n",
       "      <th>0</th>\n",
       "      <td>0</td>\n",
       "      <td>1</td>\n",
       "      <td>1</td>\n",
       "      <td>1</td>\n",
       "      <td>0</td>\n",
       "      <td>0</td>\n",
       "    </tr>\n",
       "  </tbody>\n",
       "</table>\n",
       "</div>"
      ],
      "text/plain": [
       "   cab  call  me  please  tonight  you\n",
       "0    0     1   1       1        0    0"
      ]
     },
     "execution_count": 37,
     "metadata": {},
     "output_type": "execute_result"
    }
   ],
   "source": [
    "# examine the vocabulary and document-term matrix together\n",
    "pd.DataFrame(simple_test_dtm.toarray(), columns=vect.get_feature_names_out())"
   ]
  },
  {
   "cell_type": "code",
   "execution_count": 38,
   "metadata": {},
   "outputs": [
    {
     "data": {
      "text/html": [
       "<div>\n",
       "<style scoped>\n",
       "    .dataframe tbody tr th:only-of-type {\n",
       "        vertical-align: middle;\n",
       "    }\n",
       "\n",
       "    .dataframe tbody tr th {\n",
       "        vertical-align: top;\n",
       "    }\n",
       "\n",
       "    .dataframe thead th {\n",
       "        text-align: right;\n",
       "    }\n",
       "</style>\n",
       "<table border=\"1\" class=\"dataframe\">\n",
       "  <thead>\n",
       "    <tr style=\"text-align: right;\">\n",
       "      <th></th>\n",
       "      <th>is_smishing</th>\n",
       "      <th>text</th>\n",
       "      <th>char_length</th>\n",
       "    </tr>\n",
       "  </thead>\n",
       "  <tbody>\n",
       "    <tr>\n",
       "      <th>0</th>\n",
       "      <td>0</td>\n",
       "      <td>Sizt, grbe yung traffic, asar! 🚗 Pagdating mo,...</td>\n",
       "      <td>73</td>\n",
       "    </tr>\n",
       "    <tr>\n",
       "      <th>1</th>\n",
       "      <td>0</td>\n",
       "      <td>Chika lang, gurl! Alam mo ba yung bagong lodi?...</td>\n",
       "      <td>67</td>\n",
       "    </tr>\n",
       "    <tr>\n",
       "      <th>2</th>\n",
       "      <td>0</td>\n",
       "      <td>Uy, dude! Tara sa beach, malupet mag chill dun...</td>\n",
       "      <td>60</td>\n",
       "    </tr>\n",
       "    <tr>\n",
       "      <th>3</th>\n",
       "      <td>0</td>\n",
       "      <td>Bes, yung food trip natin next week, on or off...</td>\n",
       "      <td>70</td>\n",
       "    </tr>\n",
       "    <tr>\n",
       "      <th>4</th>\n",
       "      <td>0</td>\n",
       "      <td>Wazzup, pare? G natin sa club later, solid yun...</td>\n",
       "      <td>50</td>\n",
       "    </tr>\n",
       "  </tbody>\n",
       "</table>\n",
       "</div>"
      ],
      "text/plain": [
       "   is_smishing                                               text  char_length\n",
       "0            0  Sizt, grbe yung traffic, asar! 🚗 Pagdating mo,...           73\n",
       "1            0  Chika lang, gurl! Alam mo ba yung bagong lodi?...           67\n",
       "2            0  Uy, dude! Tara sa beach, malupet mag chill dun...           60\n",
       "3            0  Bes, yung food trip natin next week, on or off...           70\n",
       "4            0  Wazzup, pare? G natin sa club later, solid yun...           50"
      ]
     },
     "execution_count": 38,
     "metadata": {},
     "output_type": "execute_result"
    }
   ],
   "source": [
    "#read file into pandas using a relative path\n",
    "sms = pd.read_csv(\"final_dataset.csv\", on_bad_lines= 'warn')\n",
    "sms.dropna(how=\"any\", inplace=True, axis =1)\n",
    "sms.columns = [\"is_smishing\", \"text\", \"char_length\"]\n",
    "\n",
    "sms.head()"
   ]
  },
  {
   "cell_type": "code",
   "execution_count": 39,
   "metadata": {},
   "outputs": [
    {
     "data": {
      "text/html": [
       "<div>\n",
       "<style scoped>\n",
       "    .dataframe tbody tr th:only-of-type {\n",
       "        vertical-align: middle;\n",
       "    }\n",
       "\n",
       "    .dataframe tbody tr th {\n",
       "        vertical-align: top;\n",
       "    }\n",
       "\n",
       "    .dataframe thead th {\n",
       "        text-align: right;\n",
       "    }\n",
       "</style>\n",
       "<table border=\"1\" class=\"dataframe\">\n",
       "  <thead>\n",
       "    <tr style=\"text-align: right;\">\n",
       "      <th></th>\n",
       "      <th>is_smishing</th>\n",
       "      <th>char_length</th>\n",
       "    </tr>\n",
       "  </thead>\n",
       "  <tbody>\n",
       "    <tr>\n",
       "      <th>count</th>\n",
       "      <td>6620.000000</td>\n",
       "      <td>6620.000000</td>\n",
       "    </tr>\n",
       "    <tr>\n",
       "      <th>mean</th>\n",
       "      <td>0.220393</td>\n",
       "      <td>83.727039</td>\n",
       "    </tr>\n",
       "    <tr>\n",
       "      <th>std</th>\n",
       "      <td>0.414543</td>\n",
       "      <td>58.480882</td>\n",
       "    </tr>\n",
       "    <tr>\n",
       "      <th>min</th>\n",
       "      <td>0.000000</td>\n",
       "      <td>2.000000</td>\n",
       "    </tr>\n",
       "    <tr>\n",
       "      <th>25%</th>\n",
       "      <td>0.000000</td>\n",
       "      <td>38.000000</td>\n",
       "    </tr>\n",
       "    <tr>\n",
       "      <th>50%</th>\n",
       "      <td>0.000000</td>\n",
       "      <td>67.000000</td>\n",
       "    </tr>\n",
       "    <tr>\n",
       "      <th>75%</th>\n",
       "      <td>0.000000</td>\n",
       "      <td>127.000000</td>\n",
       "    </tr>\n",
       "    <tr>\n",
       "      <th>max</th>\n",
       "      <td>1.000000</td>\n",
       "      <td>910.000000</td>\n",
       "    </tr>\n",
       "  </tbody>\n",
       "</table>\n",
       "</div>"
      ],
      "text/plain": [
       "       is_smishing  char_length\n",
       "count  6620.000000  6620.000000\n",
       "mean      0.220393    83.727039\n",
       "std       0.414543    58.480882\n",
       "min       0.000000     2.000000\n",
       "25%       0.000000    38.000000\n",
       "50%       0.000000    67.000000\n",
       "75%       0.000000   127.000000\n",
       "max       1.000000   910.000000"
      ]
     },
     "execution_count": 39,
     "metadata": {},
     "output_type": "execute_result"
    }
   ],
   "source": [
    "sms.describe()"
   ]
  },
  {
   "cell_type": "code",
   "execution_count": 40,
   "metadata": {},
   "outputs": [
    {
     "data": {
      "text/html": [
       "<div>\n",
       "<style scoped>\n",
       "    .dataframe tbody tr th:only-of-type {\n",
       "        vertical-align: middle;\n",
       "    }\n",
       "\n",
       "    .dataframe tbody tr th {\n",
       "        vertical-align: top;\n",
       "    }\n",
       "\n",
       "    .dataframe thead tr th {\n",
       "        text-align: left;\n",
       "    }\n",
       "\n",
       "    .dataframe thead tr:last-of-type th {\n",
       "        text-align: right;\n",
       "    }\n",
       "</style>\n",
       "<table border=\"1\" class=\"dataframe\">\n",
       "  <thead>\n",
       "    <tr>\n",
       "      <th></th>\n",
       "      <th colspan=\"8\" halign=\"left\">is_smishing</th>\n",
       "      <th colspan=\"8\" halign=\"left\">char_length</th>\n",
       "    </tr>\n",
       "    <tr>\n",
       "      <th></th>\n",
       "      <th>count</th>\n",
       "      <th>mean</th>\n",
       "      <th>std</th>\n",
       "      <th>min</th>\n",
       "      <th>25%</th>\n",
       "      <th>50%</th>\n",
       "      <th>75%</th>\n",
       "      <th>max</th>\n",
       "      <th>count</th>\n",
       "      <th>mean</th>\n",
       "      <th>std</th>\n",
       "      <th>min</th>\n",
       "      <th>25%</th>\n",
       "      <th>50%</th>\n",
       "      <th>75%</th>\n",
       "      <th>max</th>\n",
       "    </tr>\n",
       "    <tr>\n",
       "      <th>text</th>\n",
       "      <th></th>\n",
       "      <th></th>\n",
       "      <th></th>\n",
       "      <th></th>\n",
       "      <th></th>\n",
       "      <th></th>\n",
       "      <th></th>\n",
       "      <th></th>\n",
       "      <th></th>\n",
       "      <th></th>\n",
       "      <th></th>\n",
       "      <th></th>\n",
       "      <th></th>\n",
       "      <th></th>\n",
       "      <th></th>\n",
       "      <th></th>\n",
       "    </tr>\n",
       "  </thead>\n",
       "  <tbody>\n",
       "    <tr>\n",
       "      <th>\\t\"For the most sparkling shopping breaks from 45 per person; call 0121 2025050 or visit www.shortbreaks.org.uk\"</th>\n",
       "      <td>1.0</td>\n",
       "      <td>1.0</td>\n",
       "      <td>NaN</td>\n",
       "      <td>1.0</td>\n",
       "      <td>1.0</td>\n",
       "      <td>1.0</td>\n",
       "      <td>1.0</td>\n",
       "      <td>1.0</td>\n",
       "      <td>1.0</td>\n",
       "      <td>111.0</td>\n",
       "      <td>NaN</td>\n",
       "      <td>111.0</td>\n",
       "      <td>111.0</td>\n",
       "      <td>111.0</td>\n",
       "      <td>111.0</td>\n",
       "      <td>111.0</td>\n",
       "    </tr>\n",
       "    <tr>\n",
       "      <th>\\t**FREE MESSAGE**Thanks for using the Auction Subscription Service. 18 . 150p/MSGRCVD 2 Skip an Auction txt OUT. 2 Unsubscribe txt STOP CustomerCare 08718726270</th>\n",
       "      <td>1.0</td>\n",
       "      <td>1.0</td>\n",
       "      <td>NaN</td>\n",
       "      <td>1.0</td>\n",
       "      <td>1.0</td>\n",
       "      <td>1.0</td>\n",
       "      <td>1.0</td>\n",
       "      <td>1.0</td>\n",
       "      <td>1.0</td>\n",
       "      <td>160.0</td>\n",
       "      <td>NaN</td>\n",
       "      <td>160.0</td>\n",
       "      <td>160.0</td>\n",
       "      <td>160.0</td>\n",
       "      <td>160.0</td>\n",
       "      <td>160.0</td>\n",
       "    </tr>\n",
       "    <tr>\n",
       "      <th>\\t-PLS STOP bootydelious (32/F) is inviting you to be her friend. Reply YES-434 or NO-434 See her: www.SMS.ac/u/bootydelious STOP? Send STOP FRND to 62468</th>\n",
       "      <td>1.0</td>\n",
       "      <td>1.0</td>\n",
       "      <td>NaN</td>\n",
       "      <td>1.0</td>\n",
       "      <td>1.0</td>\n",
       "      <td>1.0</td>\n",
       "      <td>1.0</td>\n",
       "      <td>1.0</td>\n",
       "      <td>1.0</td>\n",
       "      <td>153.0</td>\n",
       "      <td>NaN</td>\n",
       "      <td>153.0</td>\n",
       "      <td>153.0</td>\n",
       "      <td>153.0</td>\n",
       "      <td>153.0</td>\n",
       "      <td>153.0</td>\n",
       "    </tr>\n",
       "    <tr>\n",
       "      <th>\\t07732584351 - Rodger Burns - MSG = We tried to call you re your reply to our sms for a free nokia mobile + free camcorder. Please call now 08000930705 for delivery tomorrow</th>\n",
       "      <td>1.0</td>\n",
       "      <td>1.0</td>\n",
       "      <td>NaN</td>\n",
       "      <td>1.0</td>\n",
       "      <td>1.0</td>\n",
       "      <td>1.0</td>\n",
       "      <td>1.0</td>\n",
       "      <td>1.0</td>\n",
       "      <td>1.0</td>\n",
       "      <td>173.0</td>\n",
       "      <td>NaN</td>\n",
       "      <td>173.0</td>\n",
       "      <td>173.0</td>\n",
       "      <td>173.0</td>\n",
       "      <td>173.0</td>\n",
       "      <td>173.0</td>\n",
       "    </tr>\n",
       "    <tr>\n",
       "      <th>\\t09066362231 URGENT! Your mobile No 07xxxxxxxxx won a Â£2,000 bonus caller prize on 02/06/03! this is the 2nd attempt to reach YOU! call 09066362231 ASAP!</th>\n",
       "      <td>1.0</td>\n",
       "      <td>1.0</td>\n",
       "      <td>NaN</td>\n",
       "      <td>1.0</td>\n",
       "      <td>1.0</td>\n",
       "      <td>1.0</td>\n",
       "      <td>1.0</td>\n",
       "      <td>1.0</td>\n",
       "      <td>1.0</td>\n",
       "      <td>154.0</td>\n",
       "      <td>NaN</td>\n",
       "      <td>154.0</td>\n",
       "      <td>154.0</td>\n",
       "      <td>154.0</td>\n",
       "      <td>154.0</td>\n",
       "      <td>154.0</td>\n",
       "    </tr>\n",
       "    <tr>\n",
       "      <th>...</th>\n",
       "      <td>...</td>\n",
       "      <td>...</td>\n",
       "      <td>...</td>\n",
       "      <td>...</td>\n",
       "      <td>...</td>\n",
       "      <td>...</td>\n",
       "      <td>...</td>\n",
       "      <td>...</td>\n",
       "      <td>...</td>\n",
       "      <td>...</td>\n",
       "      <td>...</td>\n",
       "      <td>...</td>\n",
       "      <td>...</td>\n",
       "      <td>...</td>\n",
       "      <td>...</td>\n",
       "      <td>...</td>\n",
       "    </tr>\n",
       "    <tr>\n",
       "      <th>Ãœ thk of wat to eat tonight.</th>\n",
       "      <td>1.0</td>\n",
       "      <td>0.0</td>\n",
       "      <td>NaN</td>\n",
       "      <td>0.0</td>\n",
       "      <td>0.0</td>\n",
       "      <td>0.0</td>\n",
       "      <td>0.0</td>\n",
       "      <td>0.0</td>\n",
       "      <td>1.0</td>\n",
       "      <td>29.0</td>\n",
       "      <td>NaN</td>\n",
       "      <td>29.0</td>\n",
       "      <td>29.0</td>\n",
       "      <td>29.0</td>\n",
       "      <td>29.0</td>\n",
       "      <td>29.0</td>\n",
       "    </tr>\n",
       "    <tr>\n",
       "      <th>Ãœ v ma fan...</th>\n",
       "      <td>1.0</td>\n",
       "      <td>0.0</td>\n",
       "      <td>NaN</td>\n",
       "      <td>0.0</td>\n",
       "      <td>0.0</td>\n",
       "      <td>0.0</td>\n",
       "      <td>0.0</td>\n",
       "      <td>0.0</td>\n",
       "      <td>1.0</td>\n",
       "      <td>14.0</td>\n",
       "      <td>NaN</td>\n",
       "      <td>14.0</td>\n",
       "      <td>14.0</td>\n",
       "      <td>14.0</td>\n",
       "      <td>14.0</td>\n",
       "      <td>14.0</td>\n",
       "    </tr>\n",
       "    <tr>\n",
       "      <th>Ãœ wait 4 me in sch i finish ard 5..</th>\n",
       "      <td>1.0</td>\n",
       "      <td>0.0</td>\n",
       "      <td>NaN</td>\n",
       "      <td>0.0</td>\n",
       "      <td>0.0</td>\n",
       "      <td>0.0</td>\n",
       "      <td>0.0</td>\n",
       "      <td>0.0</td>\n",
       "      <td>1.0</td>\n",
       "      <td>36.0</td>\n",
       "      <td>NaN</td>\n",
       "      <td>36.0</td>\n",
       "      <td>36.0</td>\n",
       "      <td>36.0</td>\n",
       "      <td>36.0</td>\n",
       "      <td>36.0</td>\n",
       "    </tr>\n",
       "    <tr>\n",
       "      <th>â€¦ and donâ€˜t worry weâ€˜ll have finished by march â€¦ ish!</th>\n",
       "      <td>1.0</td>\n",
       "      <td>0.0</td>\n",
       "      <td>NaN</td>\n",
       "      <td>0.0</td>\n",
       "      <td>0.0</td>\n",
       "      <td>0.0</td>\n",
       "      <td>0.0</td>\n",
       "      <td>0.0</td>\n",
       "      <td>1.0</td>\n",
       "      <td>61.0</td>\n",
       "      <td>NaN</td>\n",
       "      <td>61.0</td>\n",
       "      <td>61.0</td>\n",
       "      <td>61.0</td>\n",
       "      <td>61.0</td>\n",
       "      <td>61.0</td>\n",
       "    </tr>\n",
       "    <tr>\n",
       "      <th>â€¦ we r stayin here an extra week, back next wed. How did we do in the rugby this weekend? Hi to and and , c u soon \"</th>\n",
       "      <td>1.0</td>\n",
       "      <td>0.0</td>\n",
       "      <td>NaN</td>\n",
       "      <td>0.0</td>\n",
       "      <td>0.0</td>\n",
       "      <td>0.0</td>\n",
       "      <td>0.0</td>\n",
       "      <td>0.0</td>\n",
       "      <td>1.0</td>\n",
       "      <td>118.0</td>\n",
       "      <td>NaN</td>\n",
       "      <td>118.0</td>\n",
       "      <td>118.0</td>\n",
       "      <td>118.0</td>\n",
       "      <td>118.0</td>\n",
       "      <td>118.0</td>\n",
       "    </tr>\n",
       "  </tbody>\n",
       "</table>\n",
       "<p>6589 rows × 16 columns</p>\n",
       "</div>"
      ],
      "text/plain": [
       "                                                   is_smishing                \\\n",
       "                                                         count mean std  min   \n",
       "text                                                                           \n",
       "\\t\"For the most sparkling shopping breaks from ...         1.0  1.0 NaN  1.0   \n",
       "\\t**FREE MESSAGE**Thanks for using the Auction ...         1.0  1.0 NaN  1.0   \n",
       "\\t-PLS STOP bootydelious (32/F) is inviting you...         1.0  1.0 NaN  1.0   \n",
       "\\t07732584351 - Rodger Burns - MSG = We tried t...         1.0  1.0 NaN  1.0   \n",
       "\\t09066362231 URGENT! Your mobile No 07xxxxxxxx...         1.0  1.0 NaN  1.0   \n",
       "...                                                        ...  ...  ..  ...   \n",
       "Ãœ thk of wat to eat tonight.                              1.0  0.0 NaN  0.0   \n",
       "Ãœ v ma fan...                                             1.0  0.0 NaN  0.0   \n",
       "Ãœ wait 4 me in sch i finish ard 5..                       1.0  0.0 NaN  0.0   \n",
       "â€¦ and donâ€˜t worry weâ€˜ll have finished by ...         1.0  0.0 NaN  0.0   \n",
       "â€¦ we r stayin here an extra week, back next w...         1.0  0.0 NaN  0.0   \n",
       "\n",
       "                                                                        \\\n",
       "                                                    25%  50%  75%  max   \n",
       "text                                                                     \n",
       "\\t\"For the most sparkling shopping breaks from ...  1.0  1.0  1.0  1.0   \n",
       "\\t**FREE MESSAGE**Thanks for using the Auction ...  1.0  1.0  1.0  1.0   \n",
       "\\t-PLS STOP bootydelious (32/F) is inviting you...  1.0  1.0  1.0  1.0   \n",
       "\\t07732584351 - Rodger Burns - MSG = We tried t...  1.0  1.0  1.0  1.0   \n",
       "\\t09066362231 URGENT! Your mobile No 07xxxxxxxx...  1.0  1.0  1.0  1.0   \n",
       "...                                                 ...  ...  ...  ...   \n",
       "Ãœ thk of wat to eat tonight.                       0.0  0.0  0.0  0.0   \n",
       "Ãœ v ma fan...                                      0.0  0.0  0.0  0.0   \n",
       "Ãœ wait 4 me in sch i finish ard 5..                0.0  0.0  0.0  0.0   \n",
       "â€¦ and donâ€˜t worry weâ€˜ll have finished by ...  0.0  0.0  0.0  0.0   \n",
       "â€¦ we r stayin here an extra week, back next w...  0.0  0.0  0.0  0.0   \n",
       "\n",
       "                                                   char_length             \\\n",
       "                                                         count   mean std   \n",
       "text                                                                        \n",
       "\\t\"For the most sparkling shopping breaks from ...         1.0  111.0 NaN   \n",
       "\\t**FREE MESSAGE**Thanks for using the Auction ...         1.0  160.0 NaN   \n",
       "\\t-PLS STOP bootydelious (32/F) is inviting you...         1.0  153.0 NaN   \n",
       "\\t07732584351 - Rodger Burns - MSG = We tried t...         1.0  173.0 NaN   \n",
       "\\t09066362231 URGENT! Your mobile No 07xxxxxxxx...         1.0  154.0 NaN   \n",
       "...                                                        ...    ...  ..   \n",
       "Ãœ thk of wat to eat tonight.                              1.0   29.0 NaN   \n",
       "Ãœ v ma fan...                                             1.0   14.0 NaN   \n",
       "Ãœ wait 4 me in sch i finish ard 5..                       1.0   36.0 NaN   \n",
       "â€¦ and donâ€˜t worry weâ€˜ll have finished by ...         1.0   61.0 NaN   \n",
       "â€¦ we r stayin here an extra week, back next w...         1.0  118.0 NaN   \n",
       "\n",
       "                                                                         \\\n",
       "                                                      min    25%    50%   \n",
       "text                                                                      \n",
       "\\t\"For the most sparkling shopping breaks from ...  111.0  111.0  111.0   \n",
       "\\t**FREE MESSAGE**Thanks for using the Auction ...  160.0  160.0  160.0   \n",
       "\\t-PLS STOP bootydelious (32/F) is inviting you...  153.0  153.0  153.0   \n",
       "\\t07732584351 - Rodger Burns - MSG = We tried t...  173.0  173.0  173.0   \n",
       "\\t09066362231 URGENT! Your mobile No 07xxxxxxxx...  154.0  154.0  154.0   \n",
       "...                                                   ...    ...    ...   \n",
       "Ãœ thk of wat to eat tonight.                        29.0   29.0   29.0   \n",
       "Ãœ v ma fan...                                       14.0   14.0   14.0   \n",
       "Ãœ wait 4 me in sch i finish ard 5..                 36.0   36.0   36.0   \n",
       "â€¦ and donâ€˜t worry weâ€˜ll have finished by ...   61.0   61.0   61.0   \n",
       "â€¦ we r stayin here an extra week, back next w...  118.0  118.0  118.0   \n",
       "\n",
       "                                                                  \n",
       "                                                      75%    max  \n",
       "text                                                              \n",
       "\\t\"For the most sparkling shopping breaks from ...  111.0  111.0  \n",
       "\\t**FREE MESSAGE**Thanks for using the Auction ...  160.0  160.0  \n",
       "\\t-PLS STOP bootydelious (32/F) is inviting you...  153.0  153.0  \n",
       "\\t07732584351 - Rodger Burns - MSG = We tried t...  173.0  173.0  \n",
       "\\t09066362231 URGENT! Your mobile No 07xxxxxxxx...  154.0  154.0  \n",
       "...                                                   ...    ...  \n",
       "Ãœ thk of wat to eat tonight.                        29.0   29.0  \n",
       "Ãœ v ma fan...                                       14.0   14.0  \n",
       "Ãœ wait 4 me in sch i finish ard 5..                 36.0   36.0  \n",
       "â€¦ and donâ€˜t worry weâ€˜ll have finished by ...   61.0   61.0  \n",
       "â€¦ we r stayin here an extra week, back next w...  118.0  118.0  \n",
       "\n",
       "[6589 rows x 16 columns]"
      ]
     },
     "execution_count": 40,
     "metadata": {},
     "output_type": "execute_result"
    }
   ],
   "source": [
    "sms.groupby('text').describe()"
   ]
  },
  {
   "cell_type": "code",
   "execution_count": 41,
   "metadata": {},
   "outputs": [],
   "source": [
    "#Data Preprocessing\n",
    "import string\n",
    "from nltk.corpus import stopwords\n",
    "\n",
    "\n",
    "def text_process(mess):\n",
    "    #takes a string of text, performing the following\"\n",
    "    STOPWORDS = stopwords.words('english')\n",
    "    #check characters for punctuation\n",
    "    nopunc = [char for char in mess if char not in string.punctuation]\n",
    "    \n",
    "    #joining to form string\n",
    "    nopunc = ''.join(nopunc)\n",
    "    \n",
    "    #remove any stopwords\n",
    "    return ''.join([word for word in nopunc.split() if word.lower() not in STOPWORDS])"
   ]
  },
  {
   "cell_type": "code",
   "execution_count": 42,
   "metadata": {},
   "outputs": [
    {
     "data": {
      "text/html": [
       "<div>\n",
       "<style scoped>\n",
       "    .dataframe tbody tr th:only-of-type {\n",
       "        vertical-align: middle;\n",
       "    }\n",
       "\n",
       "    .dataframe tbody tr th {\n",
       "        vertical-align: top;\n",
       "    }\n",
       "\n",
       "    .dataframe thead th {\n",
       "        text-align: right;\n",
       "    }\n",
       "</style>\n",
       "<table border=\"1\" class=\"dataframe\">\n",
       "  <thead>\n",
       "    <tr style=\"text-align: right;\">\n",
       "      <th></th>\n",
       "      <th>is_smishing</th>\n",
       "      <th>text</th>\n",
       "      <th>char_length</th>\n",
       "    </tr>\n",
       "  </thead>\n",
       "  <tbody>\n",
       "    <tr>\n",
       "      <th>0</th>\n",
       "      <td>0</td>\n",
       "      <td>Sizt, grbe yung traffic, asar! 🚗 Pagdating mo,...</td>\n",
       "      <td>73</td>\n",
       "    </tr>\n",
       "    <tr>\n",
       "      <th>1</th>\n",
       "      <td>0</td>\n",
       "      <td>Chika lang, gurl! Alam mo ba yung bagong lodi?...</td>\n",
       "      <td>67</td>\n",
       "    </tr>\n",
       "    <tr>\n",
       "      <th>2</th>\n",
       "      <td>0</td>\n",
       "      <td>Uy, dude! Tara sa beach, malupet mag chill dun...</td>\n",
       "      <td>60</td>\n",
       "    </tr>\n",
       "    <tr>\n",
       "      <th>3</th>\n",
       "      <td>0</td>\n",
       "      <td>Bes, yung food trip natin next week, on or off...</td>\n",
       "      <td>70</td>\n",
       "    </tr>\n",
       "    <tr>\n",
       "      <th>4</th>\n",
       "      <td>0</td>\n",
       "      <td>Wazzup, pare? G natin sa club later, solid yun...</td>\n",
       "      <td>50</td>\n",
       "    </tr>\n",
       "  </tbody>\n",
       "</table>\n",
       "</div>"
      ],
      "text/plain": [
       "   is_smishing                                               text  char_length\n",
       "0            0  Sizt, grbe yung traffic, asar! 🚗 Pagdating mo,...           73\n",
       "1            0  Chika lang, gurl! Alam mo ba yung bagong lodi?...           67\n",
       "2            0  Uy, dude! Tara sa beach, malupet mag chill dun...           60\n",
       "3            0  Bes, yung food trip natin next week, on or off...           70\n",
       "4            0  Wazzup, pare? G natin sa club later, solid yun...           50"
      ]
     },
     "execution_count": 42,
     "metadata": {},
     "output_type": "execute_result"
    }
   ],
   "source": [
    "sms.head()"
   ]
  },
  {
   "cell_type": "code",
   "execution_count": 43,
   "metadata": {},
   "outputs": [
    {
     "data": {
      "text/html": [
       "<div>\n",
       "<style scoped>\n",
       "    .dataframe tbody tr th:only-of-type {\n",
       "        vertical-align: middle;\n",
       "    }\n",
       "\n",
       "    .dataframe tbody tr th {\n",
       "        vertical-align: top;\n",
       "    }\n",
       "\n",
       "    .dataframe thead th {\n",
       "        text-align: right;\n",
       "    }\n",
       "</style>\n",
       "<table border=\"1\" class=\"dataframe\">\n",
       "  <thead>\n",
       "    <tr style=\"text-align: right;\">\n",
       "      <th></th>\n",
       "      <th>is_smishing</th>\n",
       "      <th>text</th>\n",
       "      <th>char_length</th>\n",
       "      <th>clean_msg</th>\n",
       "    </tr>\n",
       "  </thead>\n",
       "  <tbody>\n",
       "    <tr>\n",
       "      <th>0</th>\n",
       "      <td>0</td>\n",
       "      <td>Sizt, grbe yung traffic, asar! 🚗 Pagdating mo,...</td>\n",
       "      <td>73</td>\n",
       "      <td>Siztgrbeyungtrafficasar🚗Pagdatingmokitakitssac...</td>\n",
       "    </tr>\n",
       "    <tr>\n",
       "      <th>1</th>\n",
       "      <td>0</td>\n",
       "      <td>Chika lang, gurl! Alam mo ba yung bagong lodi?...</td>\n",
       "      <td>67</td>\n",
       "      <td>ChikalanggurlAlammobayungbagonglodiAngsayaswea...</td>\n",
       "    </tr>\n",
       "    <tr>\n",
       "      <th>2</th>\n",
       "      <td>0</td>\n",
       "      <td>Uy, dude! Tara sa beach, malupet mag chill dun...</td>\n",
       "      <td>60</td>\n",
       "      <td>UydudeTarasabeachmalupetmagchilldunWavesss🏖️🌊</td>\n",
       "    </tr>\n",
       "    <tr>\n",
       "      <th>3</th>\n",
       "      <td>0</td>\n",
       "      <td>Bes, yung food trip natin next week, on or off...</td>\n",
       "      <td>70</td>\n",
       "      <td>BesyungfoodtripnatinnextweekKungexciteeed🍲🍜</td>\n",
       "    </tr>\n",
       "    <tr>\n",
       "      <th>4</th>\n",
       "      <td>0</td>\n",
       "      <td>Wazzup, pare? G natin sa club later, solid yun...</td>\n",
       "      <td>50</td>\n",
       "      <td>WazzuppareGnatinsaclublatersolidyun🎉🕺</td>\n",
       "    </tr>\n",
       "  </tbody>\n",
       "</table>\n",
       "</div>"
      ],
      "text/plain": [
       "   is_smishing                                               text  \\\n",
       "0            0  Sizt, grbe yung traffic, asar! 🚗 Pagdating mo,...   \n",
       "1            0  Chika lang, gurl! Alam mo ba yung bagong lodi?...   \n",
       "2            0  Uy, dude! Tara sa beach, malupet mag chill dun...   \n",
       "3            0  Bes, yung food trip natin next week, on or off...   \n",
       "4            0  Wazzup, pare? G natin sa club later, solid yun...   \n",
       "\n",
       "   char_length                                          clean_msg  \n",
       "0           73  Siztgrbeyungtrafficasar🚗Pagdatingmokitakitssac...  \n",
       "1           67  ChikalanggurlAlammobayungbagonglodiAngsayaswea...  \n",
       "2           60      UydudeTarasabeachmalupetmagchilldunWavesss🏖️🌊  \n",
       "3           70        BesyungfoodtripnatinnextweekKungexciteeed🍲🍜  \n",
       "4           50              WazzuppareGnatinsaclublatersolidyun🎉🕺  "
      ]
     },
     "execution_count": 43,
     "metadata": {},
     "output_type": "execute_result"
    }
   ],
   "source": [
    "#text process convertion with stopwords applied\n",
    "\n",
    "sms['clean_msg'] = sms.text.apply(text_process)\n",
    "\n",
    "sms.head()"
   ]
  },
  {
   "cell_type": "code",
   "execution_count": 44,
   "metadata": {},
   "outputs": [
    {
     "data": {
      "text/plain": [
       "list"
      ]
     },
     "execution_count": 44,
     "metadata": {},
     "output_type": "execute_result"
    }
   ],
   "source": [
    "type(stopwords.words('english'))"
   ]
  },
  {
   "cell_type": "code",
   "execution_count": 45,
   "metadata": {},
   "outputs": [
    {
     "name": "stdout",
     "output_type": "stream",
     "text": [
      "[('ok', 3), ('kamustakana', 2), ('nasabahaydinakongayon', 2), ('anggulongautocorrectngphoneko', 2), ('watru', 2), ('dontwanthearanything', 2), ('u', 2), ('arunutransframt', 2), ('sorryinmeetingillcalllater', 2), ('sirwaitingmail', 2), ('reversecheatingmathematics', 2), ('comingfridayleavepongaldogetnewsworkplace', 2), ('greatesttestcourageearthbeardefeatwithoutlosingheartgntc', 2), ('imcominghome4dinner', 2), ('ucall', 2), ('sorryillcalllaternight', 2), ('xmasstorypeacexmasmsglovexmasmiraclejesushavblessedmonthaheadampwishumerryxmas', 2), ('okiethanx', 2), ('thatscoolgentlemantreatdignityrespect', 2), ('way', 2), ('remainsbroamongstbros', 2), ('signmaturitystartsayingbigthingsactuallystartunderstandingsmallthingsniceeveningbslvyl', 2), ('takeexammarch3', 2), ('beautifultruthgravityreadcarefullyheartfeelslightsomeonefeelsheavysomeoneleaves', 2), ('come', 2), ('camehostel', 2), ('1thingchangesentencewant2concentrateeducationalcareerimleaving', 2), ('oklor', 2), ('siztgrbeyungtrafficasar🚗pagdatingmokitakitssacafélol☕️', 1), ('chikalanggurlalammobayungbagonglodiangsayaswear😂👌🏼', 1), ('uydudetarasabeachmalupetmagchilldunwavesss🏖️🌊', 1), ('besyungfoodtripnatinnextweekkungexciteeed🍲🍜', 1), ('wazzupparegnatinsaclublatersolidyun🎉🕺', 1), ('haynakoangagangmeetingbeshgisingpabaangboss😴👀', 1), ('omgbesyungcrushkoanditosacafecharot😍💬', 1), ('anonasiztkailantayomagmoviemarathon🍿🎬', 1), ('yowtropaingatkasabyaheokay🚗✌️', 1), ('lakasmakatbngjamnabessolid🎶🤘', 1), ('ehbakitparangangtahimikmotodaychilllangbes😶🤷\\u200d♂️', 1), ('umuulanngopportunitiesbestaraletsmakerain☔💸', 1), ('feelingkoanggandakotodayhahahacharotlang😂🌈', 1), ('bessylibremokongisangbotewalwaltayomamaya🍻🤪', 1), ('omgsisyungsalesamallgrabereadynaangshoppingcartko🛍️💃', 1), ('halabesnakitamoyunglatestchismislaughtrip😆💬', 1), ('eksenangpetmaluangarawnabes🌞💯', 1), ('uysiztbakanamanmaybagokadiyannakwentospill🗣️🤐', 1), ('chilllangtayosaparkmamayabestambaymode🌳🤙', 1), ('babeyungkwentomokaninaiyakakosakakatawa😂🤣', 1), ('shocksbesiniwanakonggrabdrivergalitangtraffic😱🚕', 1), ('yowbradkailantayomagbasketballulit🏀🤟', 1)]\n"
     ]
    }
   ],
   "source": [
    "from collections import Counter\n",
    "\n",
    "words = sms[sms.is_smishing == 0].clean_msg.apply(lambda x: [word.lower() for word in x.split()])\n",
    "true_words = Counter()\n",
    "\n",
    "for msg in words:\n",
    "   true_words.update(msg)\n",
    "   \n",
    "print(true_words.most_common(50))"
   ]
  },
  {
   "cell_type": "code",
   "execution_count": 46,
   "metadata": {},
   "outputs": [
    {
     "name": "stdout",
     "output_type": "stream",
     "text": [
      "[('usecretadmirerrevealthinksurspecialcall09065174042optreplyrevealstop150permsgrecdcustcare07821230901', 3), ('freemessageactivate500freetextmessagesreplyingmessagewordfreetermsconditionsvisitwww07781482378com', 3), ('urgoing2bahamascallfreefone08081560665speakliveoperatorclaimeitherbahamascruiseofâ£2000cash18onlyopttxtx07786200117', 3), ('mobile11monthsurentitledupdatelatestcolourmobilescamerafreecallmobileupdatecofree08002986030', 3), ('1newvoicemailpleasecall08719181513', 3), ('u447801259231secretadmirerlooking2makecontactufindrrevealthinksurspecialcall09058094597', 3), ('usecretadmirerlooking2makecontactufindrrevealthinksurspecialcall09058094599', 3), ('hellosirmamselectedparttimejobdailysalary30008000contactwsconsultationhttp9cblife44m6z', 2), ('gawinangiyongunangdepositong177psa177betmakakuhang100depositbonusdoblehinangiyongdepositongayonhuwagitongpalampasin177betoxyz', 2), ('bibigyankangmayang100nabonussaiyongunangdeposito177betsxyz', 2), ('joingojackpotsexcitementnewusersclaim777freebonusaim75000bingbetracewin6888plusextra177paymayagojackpot1ink', 2), ('dearbancodeorocustomeraccountreverificationneededduesystemupdatefollowinstructionsofficialappinfoonlinebdocomphthankcooperationsincerelybancodeoro', 2), ('dearbancodeorobankcustomeraccountreverificationneededduesystemupdatefollowinstructionsofficialwebinfoonlinebdocomphthankcooperationsincerelybancodeoro', 2), ('magdepositongp177sa177betmakakuhangp177cash4k80xacloan', 2), ('kumpletuhinangrechargeidownloadangappsaparehongarawparamakatanggapngp117cashlks22wloan', 2), ('sachristmascarnivalangmgabagongkkbeusersaymakakakuhangp155sapamamagitanngrechargingngp1551xturnover2sj9bid', 2), ('lyricalladie21finvitingfriendreplyyes910no910seewwwsmsacuhmmrossstopsendstopfrnd62468', 2), ('valuedvodafonecustomercomputerpickedwinâ£150prizecollecteasycall09061743386', 2), ('phonyâ£350awardtodaysvodanumbersendingxxxxselectedreceiveâ£350awardmatchpleasecall08712300220quotingclaimcode3100standardratesapp', 2), ('todaysvodanumbersending7548selectedreceive350awardmatchpleasecall08712300220quotingclaimcode4041standardratesapp', 2), ('5freetoppolyphonictonescall087018728737nationalrategettoppolytunesenteveryweektextsubpoly81618â£3perpoleunsub08718727870', 2), ('importantcustomerserviceannouncementcallfreephone08005420825', 2), ('forwarded448712404000pleasecall08712404000immediatelyurgentmessagewaiting', 2), ('welcomeukmobiledatemsgfreegivingfreecalling08719839835futuremgsbilled150pdailycancelsendgostop89123', 2), ('enjoyjamstervideosoundgoldclubcredits2newvideosounds2logosmusicnewsgetfunjamstercouk16onlyhelpcall09701213186', 2), ('pleasecall08712402779immediatelyurgentmessagewaiting', 2), ('text82228getringtoneslogosgameswwwtxt82228comquestionsinfotxt82228couk', 2), ('wantnewvideophone750anytimenetworkminshalfpricelinerentalfreetext3monthsreplycall08000930705freedelivery', 2), ('discountcoderp176781stopmessagesreplystopwwwregalportfoliocoukcustomerservices08717205546', 2), ('triedcontactreplyoffer750mins150textandnewvideophonecall08002988890replyfreedeliverytomorrow', 2), ('usecretadmirerlooking2makecontactufindrrevealthinksurspecialcall09058094565', 2), ('freeentryâ£250weeklycompsendwordenter8412818tcwwwtextcompcomcustcare08712405020', 2), ('thanksringtoneorderreferencenumberx29mobilecharged450tonearrivepleasecallcustomerservices09065989180', 2), ('wantnewvideohandset750timenetworkminsunlimitedtextcamcorderreplycall08000930705delsat', 2), ('todaysvodanumbersending5226selectedreceive350awardhavamatchpleasecall08712300220quotingclaimcode1131standardratesapp', 2), ('dearvoucherholderclaimweeksofferpcpleasegohttpwwwwtlpcouktexttscsapply', 2), ('unsubscribedservicesgettonssexybabeshunksstraightphonegohttpgotbabescouksubscriptions', 2), ('goldviking29minvitingfriendreplyyes762no762seewwwsmsacugoldvikingstopsendstopfrnd62468', 2), ('loanspurposeevenbadcredittenantswelcomecallnoworriesloanscom08717111821', 2), ('449050000301â£2000priceclaimcall09050000301', 2), ('currentleadingbid151pauseauctionsendcustomercare08718726270', 2), ('xxxmobilemovieclubusecreditclickwaplinknexttxtmessageclickhttpwapxxxmobilemovieclubcomnqjkgighjjgcbl', 2), ('09066362231urgentmobile07xxxxxxxxxâ£2000bonuscallerprize0206032ndattemptreachcall09066362231asap', 2), ('wantnewvideophone750anytimenetworkmins150textfivepoundsperweekcall08000776320replydeliverytomorrow', 2), ('customerserviceannoncementnewyearsdeliverywaitingpleasecall07046744435arrangedelivery', 2), ('pleasecall08712402578immediatelyurgentmessagewaiting', 2), ('customerserviceannouncementrecentlytriedmakedeliveryunablepleasecall07090298926rescheduleref9307622', 2), ('freemsgringtonefromhttptmswidelivecomindexwmlid1b6a5ecef91ff937819firsttrue180430jul05', 2), ('wantlatestvideohandset750anytimenetworkminshalfpricelinerentalreplycall08000930705deliverytomorrow', 2), ('todaysvodanumbersending1225selectedreceiveâ£50awardmatchpleasecall08712300220quotingclaimcode3100standardratesapp', 2)]\n"
     ]
    }
   ],
   "source": [
    "words = sms[sms.is_smishing== 1].clean_msg.apply(lambda x: [word.lower() for word in x.split()])\n",
    "false_words = Counter()\n",
    "\n",
    "for msg in words:\n",
    "    false_words.update(msg)\n",
    "    \n",
    "print(false_words.most_common(50))"
   ]
  },
  {
   "cell_type": "code",
   "execution_count": 47,
   "metadata": {},
   "outputs": [
    {
     "name": "stdout",
     "output_type": "stream",
     "text": [
      "(6620,)\n",
      "(6620,)\n",
      "(4965,)\n",
      "(1655,)\n",
      "(4965,)\n",
      "(1655,)\n"
     ]
    }
   ],
   "source": [
    "#vectorization\n",
    "from sklearn.model_selection import train_test_split\n",
    "\n",
    "#define x and y (from the sms data) to use with COUNTVECTORIZER\n",
    "X = sms.clean_msg\n",
    "y = sms.is_smishing\n",
    "print(X.shape)\n",
    "print(y.shape)\n",
    "\n",
    "X_train, X_test, y_train, y_test = train_test_split(X, y, random_state=1)\n",
    "\n",
    "print(X_train.shape)\n",
    "print(X_test.shape)\n",
    "print(y_train.shape)\n",
    "print(y_test.shape)"
   ]
  },
  {
   "cell_type": "code",
   "execution_count": 48,
   "metadata": {},
   "outputs": [
    {
     "name": "stdout",
     "output_type": "stream",
     "text": [
      "<class 'scipy.sparse._csr.csr_matrix'> (4965, 5180)\n",
      "<class 'scipy.sparse._csr.csr_matrix'> (1655, 5180)\n"
     ]
    }
   ],
   "source": [
    "from sklearn.feature_extraction.text import CountVectorizer\n",
    "\n",
    "#instantiate\n",
    "v = CountVectorizer()\n",
    "v.fit(X_train)\n",
    "\n",
    "#learn training data vocabulary\n",
    "X_train_dtm = v.transform(X_train)\n",
    "\n",
    "#equivalently: combine fit and transform into a single step\n",
    "X_train_dtm = v.fit_transform(X_train)\n",
    "\n",
    "#examine the document-term matrix\n",
    "print(type(X_train_dtm), X_train_dtm.shape)\n",
    "\n",
    "#transform testing data (using fitted vocabulary) into a document-term matrix\n",
    "X_test_dtm = v.transform(X_test)\n",
    "print(type(X_test_dtm), X_test_dtm.shape)"
   ]
  },
  {
   "cell_type": "code",
   "execution_count": 49,
   "metadata": {},
   "outputs": [
    {
     "data": {
      "text/plain": [
       "<4965x5180 sparse matrix of type '<class 'numpy.float64'>'\n",
       "\twith 5394 stored elements in Compressed Sparse Row format>"
      ]
     },
     "execution_count": 49,
     "metadata": {},
     "output_type": "execute_result"
    }
   ],
   "source": [
    "from sklearn.feature_extraction.text import TfidfTransformer\n",
    "\n",
    "tfidf_transformer = TfidfTransformer()\n",
    "tfidf_transformer.fit(X_train_dtm)\n",
    "tfidf_transformer.transform(X_train_dtm)"
   ]
  },
  {
   "cell_type": "code",
   "execution_count": 50,
   "metadata": {},
   "outputs": [
    {
     "name": "stdout",
     "output_type": "stream",
     "text": [
      "CPU times: total: 31.2 ms\n",
      "Wall time: 13 ms\n"
     ]
    },
    {
     "data": {
      "text/html": [
       "<style>#sk-container-id-2 {color: black;}#sk-container-id-2 pre{padding: 0;}#sk-container-id-2 div.sk-toggleable {background-color: white;}#sk-container-id-2 label.sk-toggleable__label {cursor: pointer;display: block;width: 100%;margin-bottom: 0;padding: 0.3em;box-sizing: border-box;text-align: center;}#sk-container-id-2 label.sk-toggleable__label-arrow:before {content: \"▸\";float: left;margin-right: 0.25em;color: #696969;}#sk-container-id-2 label.sk-toggleable__label-arrow:hover:before {color: black;}#sk-container-id-2 div.sk-estimator:hover label.sk-toggleable__label-arrow:before {color: black;}#sk-container-id-2 div.sk-toggleable__content {max-height: 0;max-width: 0;overflow: hidden;text-align: left;background-color: #f0f8ff;}#sk-container-id-2 div.sk-toggleable__content pre {margin: 0.2em;color: black;border-radius: 0.25em;background-color: #f0f8ff;}#sk-container-id-2 input.sk-toggleable__control:checked~div.sk-toggleable__content {max-height: 200px;max-width: 100%;overflow: auto;}#sk-container-id-2 input.sk-toggleable__control:checked~label.sk-toggleable__label-arrow:before {content: \"▾\";}#sk-container-id-2 div.sk-estimator input.sk-toggleable__control:checked~label.sk-toggleable__label {background-color: #d4ebff;}#sk-container-id-2 div.sk-label input.sk-toggleable__control:checked~label.sk-toggleable__label {background-color: #d4ebff;}#sk-container-id-2 input.sk-hidden--visually {border: 0;clip: rect(1px 1px 1px 1px);clip: rect(1px, 1px, 1px, 1px);height: 1px;margin: -1px;overflow: hidden;padding: 0;position: absolute;width: 1px;}#sk-container-id-2 div.sk-estimator {font-family: monospace;background-color: #f0f8ff;border: 1px dotted black;border-radius: 0.25em;box-sizing: border-box;margin-bottom: 0.5em;}#sk-container-id-2 div.sk-estimator:hover {background-color: #d4ebff;}#sk-container-id-2 div.sk-parallel-item::after {content: \"\";width: 100%;border-bottom: 1px solid gray;flex-grow: 1;}#sk-container-id-2 div.sk-label:hover label.sk-toggleable__label {background-color: #d4ebff;}#sk-container-id-2 div.sk-serial::before {content: \"\";position: absolute;border-left: 1px solid gray;box-sizing: border-box;top: 0;bottom: 0;left: 50%;z-index: 0;}#sk-container-id-2 div.sk-serial {display: flex;flex-direction: column;align-items: center;background-color: white;padding-right: 0.2em;padding-left: 0.2em;position: relative;}#sk-container-id-2 div.sk-item {position: relative;z-index: 1;}#sk-container-id-2 div.sk-parallel {display: flex;align-items: stretch;justify-content: center;background-color: white;position: relative;}#sk-container-id-2 div.sk-item::before, #sk-container-id-2 div.sk-parallel-item::before {content: \"\";position: absolute;border-left: 1px solid gray;box-sizing: border-box;top: 0;bottom: 0;left: 50%;z-index: -1;}#sk-container-id-2 div.sk-parallel-item {display: flex;flex-direction: column;z-index: 1;position: relative;background-color: white;}#sk-container-id-2 div.sk-parallel-item:first-child::after {align-self: flex-end;width: 50%;}#sk-container-id-2 div.sk-parallel-item:last-child::after {align-self: flex-start;width: 50%;}#sk-container-id-2 div.sk-parallel-item:only-child::after {width: 0;}#sk-container-id-2 div.sk-dashed-wrapped {border: 1px dashed gray;margin: 0 0.4em 0.5em 0.4em;box-sizing: border-box;padding-bottom: 0.4em;background-color: white;}#sk-container-id-2 div.sk-label label {font-family: monospace;font-weight: bold;display: inline-block;line-height: 1.2em;}#sk-container-id-2 div.sk-label-container {text-align: center;}#sk-container-id-2 div.sk-container {/* jupyter's `normalize.less` sets `[hidden] { display: none; }` but bootstrap.min.css set `[hidden] { display: none !important; }` so we also need the `!important` here to be able to override the default hidden behavior on the sphinx rendered scikit-learn.org. See: https://github.com/scikit-learn/scikit-learn/issues/21755 */display: inline-block !important;position: relative;}#sk-container-id-2 div.sk-text-repr-fallback {display: none;}</style><div id=\"sk-container-id-2\" class=\"sk-top-container\"><div class=\"sk-text-repr-fallback\"><pre>LogisticRegression(solver=&#x27;liblinear&#x27;)</pre><b>In a Jupyter environment, please rerun this cell to show the HTML representation or trust the notebook. <br />On GitHub, the HTML representation is unable to render, please try loading this page with nbviewer.org.</b></div><div class=\"sk-container\" hidden><div class=\"sk-item\"><div class=\"sk-estimator sk-toggleable\"><input class=\"sk-toggleable__control sk-hidden--visually\" id=\"sk-estimator-id-2\" type=\"checkbox\" checked><label for=\"sk-estimator-id-2\" class=\"sk-toggleable__label sk-toggleable__label-arrow\">LogisticRegression</label><div class=\"sk-toggleable__content\"><pre>LogisticRegression(solver=&#x27;liblinear&#x27;)</pre></div></div></div></div></div>"
      ],
      "text/plain": [
       "LogisticRegression(solver='liblinear')"
      ]
     },
     "execution_count": 50,
     "metadata": {},
     "output_type": "execute_result"
    }
   ],
   "source": [
    "#using logistic regression\n",
    "from sklearn.linear_model import LogisticRegression\n",
    "\n",
    "logreg = LogisticRegression(solver='liblinear')\n",
    "\n",
    "#train using X_train_dtm\n",
    "%time logreg.fit(X_train_dtm, y_train)\n"
   ]
  },
  {
   "cell_type": "code",
   "execution_count": 51,
   "metadata": {},
   "outputs": [
    {
     "data": {
      "text/plain": [
       "array([0.20043537, 0.20043537, 0.20043537, ..., 0.20043537, 0.20043537,\n",
       "       0.20043537])"
      ]
     },
     "execution_count": 51,
     "metadata": {},
     "output_type": "execute_result"
    }
   ],
   "source": [
    "#make class predictions for X_test_dtm\n",
    "y_pred_class = logreg.predict(X_test_dtm)\n",
    "\n",
    "#calculate predicted \n",
    "y_pred_prob = logreg.predict_proba(X_test_dtm)[:, 1]\n",
    "y_pred_prob"
   ]
  },
  {
   "cell_type": "code",
   "execution_count": 53,
   "metadata": {},
   "outputs": [
    {
     "name": "stdout",
     "output_type": "stream",
     "text": [
      "Accuracy Score:  0.7903323262839879\n",
      "Confusion Matrix:  [[1290    0]\n",
      " [ 347   18]]\n",
      "ROC AUC score:  0.6348104491876394\n"
     ]
    }
   ],
   "source": [
    "from sklearn import metrics\n",
    "#accuracy\n",
    "print(\"Accuracy Score: \", metrics.accuracy_score(y_test, y_pred_class))\n",
    "\n",
    "#confusion \n",
    "print(\"Confusion Score\")\n",
    "print(metrics.confusion_matrix(y_test, y_pred_class))\n",
    "\n",
    "#calculate AUC\n",
    "print(\"ROC AUC score: \", metrics.roc_auc_score(y_test, y_pred_prob))\n"
   ]
  },
  {
   "cell_type": "code",
   "execution_count": null,
   "metadata": {},
   "outputs": [],
   "source": []
  }
 ],
 "metadata": {
  "kernelspec": {
   "display_name": "Python 3",
   "language": "python",
   "name": "python3"
  },
  "language_info": {
   "codemirror_mode": {
    "name": "ipython",
    "version": 3
   },
   "file_extension": ".py",
   "mimetype": "text/x-python",
   "name": "python",
   "nbconvert_exporter": "python",
   "pygments_lexer": "ipython3",
   "version": "3.11.4"
  }
 },
 "nbformat": 4,
 "nbformat_minor": 2
}
