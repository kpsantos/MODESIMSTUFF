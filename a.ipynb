{
 "cells": [
  {
   "cell_type": "code",
   "execution_count": 13,
   "metadata": {},
   "outputs": [],
   "source": [
    "import random\n",
    "daily_demand = {0:10,\n",
    "                1:20,\n",
    "                2:40,\n",
    "                3:60,\n",
    "                4:40,\n",
    "                5:30}\n",
    "\n",
    "\n",
    "def simulate_daily_demand():\n",
    "    rand_num = random.random()\n",
    "    #calcuate cumulative probabilities\n",
    "    cumulative_prob = 0\n",
    "    for demand, frequency in daily_demand.items():\n",
    "        cumulative_prob += frequency / sum(daily_demand.values())\n",
    "        if rand_num <= cumulative_prob:\n",
    "            return demand"
   ]
  },
  {
   "cell_type": "code",
   "execution_count": 14,
   "metadata": {},
   "outputs": [
    {
     "name": "stdout",
     "output_type": "stream",
     "text": [
      "[4, 4, 3, 2, 3, 3, 4, 2, 3, 3]\n"
     ]
    }
   ],
   "source": [
    "num_days = 100\n",
    "random.seed(0)\n",
    "daily_demand_sim = [simulate_daily_demand() for _ in range(num_days)]\n",
    "print(daily_demand_sim[:10])"
   ]
  },
  {
   "cell_type": "code",
   "execution_count": null,
   "metadata": {},
   "outputs": [],
   "source": [
    "import pandas as pd\n"
   ]
  }
 ],
 "metadata": {
  "kernelspec": {
   "display_name": "Python 3",
   "language": "python",
   "name": "python3"
  },
  "language_info": {
   "codemirror_mode": {
    "name": "ipython",
    "version": 3
   },
   "file_extension": ".py",
   "mimetype": "text/x-python",
   "name": "python",
   "nbconvert_exporter": "python",
   "pygments_lexer": "ipython3",
   "version": "3.11.4"
  }
 },
 "nbformat": 4,
 "nbformat_minor": 2
}
